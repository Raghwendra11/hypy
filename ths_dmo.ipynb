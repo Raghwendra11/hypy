{
 "cells": [
  {
   "cell_type": "markdown",
   "metadata": {},
   "source": [
    " # Theis (1935) interpretation  \n",
    " \n",
    " This notebook demonstrates how to use **hypy** for the interpretation of a pumping test with the Theis (1935) solution.\n",
    "\n",
    " Copyright 1998-2017 - Philippe Renard & Co.\n",
    "\n"
   ]
  },
  {
   "cell_type": "markdown",
   "metadata": {},
   "source": [
    " ## Load the data\n",
    " The data set for this example has been typed from: \n",
    " Table 5.1, page 172 in the following book:\n",
    " C.W. Fetter, 2001, Applied Hydrogeology, Fourth Edition.\n",
    " Prentice Hall, Upper Saddle River, 598 pp.\n",
    "\n",
    " Before starting, you have to import **hypy**. We do it with the command `import hypy as hp`\n"
   ]
  },
  {
   "cell_type": "code",
   "execution_count": 22,
   "metadata": {
    "collapsed": true
   },
   "outputs": [],
   "source": [
    "import hypy as hp"
   ]
  },
  {
   "cell_type": "markdown",
   "metadata": {},
   "source": [
    "For this example, the data is stored in the ascii file `ths_ds1.txt` that contains two columns as we can see if you edit the data file with your prefered text editor. The first column is the time in seconds. The second column contains the drawdown in meters.\n",
    "\n",
    "It is also possible to import data from complex files but we will not discuss this point here.\n",
    "\n",
    "Let us now load the data in the python workspace with the ldf function from hytool. This allows to create two vectors: t and s containing the data. We will use them in the next steps, but we can first plot them to check graphicaly that they have been correctly loaded.\n"
   ]
  },
  {
   "cell_type": "code",
   "execution_count": 19,
   "metadata": {},
   "outputs": [],
   "source": [
    "t,s = hp.ldf('ths_ds1.txt')"
   ]
  },
  {
   "cell_type": "code",
   "execution_count": 23,
   "metadata": {},
   "outputs": [
    {
     "data": {
      "image/png": "[encoded data removed]",
      "text/plain": [
       "<matplotlib.figure.Figure at 0x16b35786e48>"
      ]
     },
     "metadata": {},
     "output_type": "display_data"
    }
   ],
   "source": [
    "hp.plot(t,s)"
   ]
  },
  {
   "cell_type": "markdown",
   "metadata": {
    "collapsed": true
   },
   "source": [
    " ## Diagnostic plot \n",
    " \n",
    " In order to display the diagnostic plot of the data, we use the function diagnostic(t,s) provided by hypy."
   ]
  },
  {
   "cell_type": "code",
   "execution_count": 24,
   "metadata": {},
   "outputs": [
    {
     "data": {
      "image/png": "[encoded data removed]",
      "text/plain": [
       "<matplotlib.figure.Figure at 0x16b35844ef0>"
      ]
     },
     "metadata": {},
     "output_type": "display_data"
    }
   ],
   "source": [
    "hp.diagnostic(t,s)"
   ]
  },
  {
   "cell_type": "markdown",
   "metadata": {},
   "source": [
    "The plot shows a typical 2D infinite acting radial flow.\n",
    "The derivative stabilizes at late time and the derivative is larger than\n",
    "the drawdown at early time. \n",
    "\n",
    "We will therefore interpret the data with the Theis (1935) solution\n",
    "that allows to model such behaviour\n",
    " \n",
    "Hytool syntax : \n",
    "The syntax of hytool uses some basic convention that needs to be\n",
    "explained. Most of the functions have names that are made with a suffix\n",
    "and a prefix. Between the suffix and the prefix, you have to use a point. The function also needs to start with \"hp.\".   \n",
    " \n",
    " \n",
    "\n",
    "The prefix is a set of three letters that represent a\n",
    "certain model. For example, for the Theis (1935) model we use the letters\n",
    "ths. For the Papadopulos Cooper (1967) model for large diameter well, we\n",
    "use pcw.\n",
    "\n",
    "The suffix indicates what the function does. For example, the action can\n",
    "be: guess the values of the parameters, in that case the suffix will be gss. If the\n",
    "action is report the results of an interpretation the suffix will be rpt.\n",
    "\n",
    "With that convention we will have functions such as hp.ths.gss, hp.ths.rpt,\n",
    "hp.pcw.gss, etc.\n",
    "\n",
    "\n",
    "Along this tutorial, you will discover some functions that are applied to\n",
    "the Theis (1935) model. Try to remember the names of the suffix, they are general\n",
    "and will be applicable to other models.\n",
    "\n",
    "Model parameter guess :\n",
    "In order to determine the value of the Theis model parameter, we first \n",
    "use the function ths_gss(t,s) to estimate roughly an initial guess p0.\n",
    "\n",
    "For the Theis (1935) model, the parameter vector contains two values: the\n",
    "first is the slope a of the late time straight line, while the\n",
    "second parameter is the time t0 at which this straight line\n",
    "intercept the axis s=0."
   ]
  },
  {
   "cell_type": "code",
   "execution_count": 29,
   "metadata": {},
   "outputs": [
    {
     "ename": "AttributeError",
     "evalue": "module 'hypy' has no attribute 'ths'",
     "output_type": "error",
     "traceback": [
      "\u001b[1;31m---------------------------------------------------------------------------\u001b[0m",
      "\u001b[1;31mAttributeError\u001b[0m                            Traceback (most recent call last)",
      "\u001b[1;32m<ipython-input-29-9893777a64dd>\u001b[0m in \u001b[0;36m<module>\u001b[1;34m()\u001b[0m\n\u001b[1;32m----> 1\u001b[1;33m \u001b[0mp0\u001b[0m \u001b[1;33m=\u001b[0m \u001b[0mhp\u001b[0m\u001b[1;33m.\u001b[0m\u001b[0mths\u001b[0m\u001b[1;33m.\u001b[0m\u001b[0mgss\u001b[0m\u001b[1;33m(\u001b[0m\u001b[0mt\u001b[0m\u001b[1;33m,\u001b[0m\u001b[0ms\u001b[0m\u001b[1;33m)\u001b[0m\u001b[1;33m\u001b[0m\u001b[0m\n\u001b[0m",
      "\u001b[1;31mAttributeError\u001b[0m: module 'hypy' has no attribute 'ths'"
     ]
    }
   ],
   "source": [
    "p0 = hp.ths.gss(t,s)"
   ]
  },
  {
   "cell_type": "markdown",
   "metadata": {},
   "source": [
    "To check visually the quality of this first guess, we then plot the model\n",
    "corresponding to these parameters and the data with the hytool function\n",
    "trial. The function trial can be applied for any model and therefore it\n",
    "requires that the name of model 'ths' is provided together with the values of\n",
    "the parameter p0 and the data. 'ths' is the name of the function that\n",
    "computes the drawdown from p0 and t.\n",
    "\n",
    "We see in the resulting figure both in log-log and semi-log scale\n",
    "that the fit is already pretty good for this example."
   ]
  },
  {
   "cell_type": "code",
   "execution_count": 28,
   "metadata": {},
   "outputs": [
    {
     "ename": "NameError",
     "evalue": "name 'p0' is not defined",
     "output_type": "error",
     "traceback": [
      "\u001b[1;31m---------------------------------------------------------------------------\u001b[0m",
      "\u001b[1;31mNameError\u001b[0m                                 Traceback (most recent call last)",
      "\u001b[1;32m<ipython-input-28-3a3eaee05688>\u001b[0m in \u001b[0;36m<module>\u001b[1;34m()\u001b[0m\n\u001b[1;32m----> 1\u001b[1;33m \u001b[0mhp\u001b[0m\u001b[1;33m.\u001b[0m\u001b[0mtrial\u001b[0m\u001b[1;33m(\u001b[0m\u001b[0mp0\u001b[0m\u001b[1;33m,\u001b[0m\u001b[0mt\u001b[0m\u001b[1;33m,\u001b[0m\u001b[0ms\u001b[0m\u001b[1;33m,\u001b[0m \u001b[0mname\u001b[0m \u001b[1;33m=\u001b[0m \u001b[1;34m'ths'\u001b[0m\u001b[1;33m)\u001b[0m\u001b[1;33m\u001b[0m\u001b[0m\n\u001b[0m",
      "\u001b[1;31mNameError\u001b[0m: name 'p0' is not defined"
     ]
    }
   ],
   "source": [
    "hp.trial(p0,t,s, name = 'ths')"
   ]
  },
  {
   "cell_type": "markdown",
   "metadata": {},
   "source": [
    "Manual parameter adjustment\n",
    "In this example, the initial guess provided by ths_gss is good. However, \n",
    "in practice it may happen that it does not provide a reliable result. One\n",
    "can then change manually the values of the parameters and modify them\n",
    "iteratively until he obtains a reasonable first fit.\n",
    "\n",
    "Let us show the procedure.\n",
    "\n",
    "\n",
    "\n",
    "We start with a first value of the parameters, and make the\n",
    "plot. We see on the graph that the slope is too small and should be\n",
    "increased. We need to modify it."
   ]
  },
  {
   "cell_type": "code",
   "execution_count": null,
   "metadata": {},
   "outputs": [],
   "source": [
    "p0 = [1.1,100]\n",
    "hp.trial(p0,t,s,'ths')"
   ]
  },
  {
   "cell_type": "markdown",
   "metadata": {},
   "source": [
    "Therefore we increase the slope to 1.8 and plot the result. \n",
    "\n",
    "The slope seems to be better but the straight line is shifted \n",
    "too much to the left. We must increase the value of t0 (the\n",
    "time at which the straight intercept the horizontal axis) in the next\n",
    "iteration."
   ]
  },
  {
   "cell_type": "code",
   "execution_count": null,
   "metadata": {},
   "outputs": [],
   "source": [
    "p0 = [1.8,100]\n",
    "hp.trial(p0,t,s,'ths')"
   ]
  },
  {
   "cell_type": "markdown",
   "metadata": {},
   "source": [
    "Let us change it to 500, and plot the results.\n",
    "We obtain a rather good fit even if it is not perfect."
   ]
  },
  {
   "cell_type": "code",
   "execution_count": null,
   "metadata": {},
   "outputs": [],
   "source": [
    "p0 = [1.8,500]\n",
    "hp.trial(p0,t,s,'ths')"
   ]
  },
  {
   "cell_type": "markdown",
   "metadata": {},
   "source": [
    "Model parameter identification:\n",
    "\n",
    "In the previous steps, we obtained a rough initial guess that is used here\n",
    "as an initial value in an iterative non linear optimization technique to\n",
    "fit the model to the complete data set. This is done with the hytool\n",
    "function fit.\n",
    "\n",
    "We see visually that the fit has been improved. The values of the\n",
    "parameters have slightly changed."
   ]
  },
  {
   "cell_type": "code",
   "execution_count": null,
   "metadata": {},
   "outputs": [],
   "source": [
    "p = hp.fit(p0,t,s,'ths')\n",
    "hp.trial(p,t,s,'ths')"
   ]
  },
  {
   "cell_type": "markdown",
   "metadata": {},
   "source": [
    "Reporting the results :\n",
    "\n",
    "The interpretation is finished. We need to report the results.\n",
    "This is done with the function ths_rpt(p,t,s,d,title). \n",
    "The function needs the values of some additional data to compute the\n",
    "Hydraulic parameters. For the Theis solution, we need the pumping rate q\n",
    "and the radial distance r between the pumping well and the observation\n",
    "well.\n",
    "\n",
    "You can add your name and the title of your rapport in the call of the function. It's also possible to save it as an image with the filetype 'img' or as a pdf with the filetype 'pdf'. You can also change the title of your graph with ttle ='title of your graph'. it will automatically save the image or the pdf in the repertory you're currently working on under the name 'ths_rapport.filetype'\n"
   ]
  },
  {
   "cell_type": "code",
   "execution_count": null,
   "metadata": {},
   "outputs": [],
   "source": [
    "q = 1.3888e-2 #pumping rate in m3/s\n",
    "r = 250 #radial distance in m\n",
    "d = [q,r]\n",
    "hp.ths.rpt(p,t,s,d,'ths',Author='Your name',ttle = 'Interference test', Rapport = 'My rapport', filetype = 'pdf')"
   ]
  },
  {
   "cell_type": "markdown",
   "metadata": {},
   "source": [
    "The estimated transmissivity is 1.4e-3 m2/s and the storativity is\n",
    "2.1e-5. These numbers compare well with the values estimated by Fetter\n",
    "(2001) which are the following:\n",
    "\n",
    "Type curve matching (p.173):\n",
    "\n",
    "T = 1.5 e-3 m2/s \n",
    "\n",
    "S = 2.4 e-5 \n",
    " \n",
    "Straight line analysis (p. 174-175):\n",
    "\n",
    "T = 1.5 e-3 m2/s \n",
    "\n",
    "S = 1.7 e-5\n",
    "\n",
    "Summary:\n",
    " \n",
    "Even if this demo was quite long because hytool offers the possibility to\n",
    "act at many different levels during the process, the important thing to\n",
    "remember is that the interpretation itself including loading the data and\n",
    "producing the report, is done in 4 lines of code. Once this is done, the\n",
    "user can edit the figure interactively and save it in a graphhical file."
   ]
  },
  {
   "cell_type": "code",
   "execution_count": null,
   "metadata": {},
   "outputs": [],
   "source": [
    "t,s = hp.ldf('/home/pianarol/AnacondaProjects/ths_ds1.txt')\n",
    "p0 = hp.ths.gss(t,s)\n",
    "p = hp.fit(p0,t,s, 'ths')\n",
    "hp.ths.rpt(p,t,s,d,'ths','Theis interpretation of the Fetter data', Author='name', Rapport='rapport', filetype = 'pdf')"
   ]
  },
  {
   "cell_type": "code",
   "execution_count": null,
   "metadata": {
    "collapsed": true
   },
   "outputs": [],
   "source": []
  }
 ],
 "metadata": {
  "kernelspec": {
   "display_name": "Python 3",
   "language": "python",
   "name": "python3"
  },
  "language_info": {
   "codemirror_mode": {
    "name": "ipython",
    "version": 3
   },
   "file_extension": ".py",
   "mimetype": "text/x-python",
   "name": "python",
   "nbconvert_exporter": "python",
   "pygments_lexer": "ipython3",
   "version": "3.6.1"
  }
 },
 "nbformat": 4,
 "nbformat_minor": 2
}
